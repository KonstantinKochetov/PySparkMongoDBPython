{
 "cells": [
  {
   "cell_type": "code",
   "execution_count": 1,
   "metadata": {},
   "outputs": [],
   "source": [
    "from pyspark import SparkConf\n",
    "from pyspark.sql import SparkSession\n",
    "from pyspark.sql.functions import *\n",
    "from pyspark.sql.types import *\n",
    "\n",
    "working_directory = 'jars/*'\n",
    "\n",
    "my_spark = SparkSession \\\n",
    "    .builder \\\n",
    "    .appName(\"myApp\") \\\n",
    "    .config(\"spark.mongodb.input.uri=mongodb://127.0.0.1/test.myCollection\") \\\n",
    "    .config(\"spark.mongodb.output.uri=mongodb://127.0.0.1/test.myCollection\") \\\n",
    "    .config('spark.driver.extraClassPath', working_directory) \\\n",
    "    .getOrCreate()\n"
   ]
  },
  {
   "cell_type": "code",
   "execution_count": 6,
   "metadata": {},
   "outputs": [],
   "source": [
    "# WRITE\n",
    "\n",
    "people = my_spark.createDataFrame([(\"JULIA\", 50), (\"Gandalf\", 1000), (\"Thorin\", 195), (\"Balin\", 178), (\"Kili\", 77),\n",
    "                                (\"Dwalin\", 169), (\"Oin\", 167), (\"Gloin\", 158), (\"Fili\", 82), (\"Bombur\", 22)], [\"name\", \"age\"])\n",
    "\n",
    "people.write.format(\"com.mongodb.spark.sql.DefaultSource\").mode(\"append\").save()\n"
   ]
  },
  {
   "cell_type": "code",
   "execution_count": null,
   "metadata": {},
   "outputs": [],
   "source": [
    "people.write.format(\"com.mongodb.spark.sql.DefaultSource\").mode(\"append\").option(\"database\",\n",
    "                                                                                 \"people\").option(\"collection\", \"contacts\").save()"
   ]
  },
  {
   "cell_type": "code",
   "execution_count": 7,
   "metadata": {},
   "outputs": [
    {
     "name": "stdout",
     "output_type": "stream",
     "text": [
      "+--------------------+---+-----+\n|                 _id|age| name|\n+--------------------+---+-----+\n|[5c2b999f537aa919...| 50|JULIA|\n|[5c2b9c08537aa91a...| 50|JULIA|\n|[5c2b9e6d537aa91a...| 50|JULIA|\n+--------------------+---+-----+\n\n"
     ]
    },
    {
     "data": {
      "text/plain": [
       "3"
      ]
     },
     "execution_count": 7,
     "metadata": {},
     "output_type": "execute_result"
    }
   ],
   "source": [
    "# READ\n",
    "\n",
    "df = my_spark.read.format(\"com.mongodb.spark.sql.DefaultSource\").load()\n",
    "df.select('*').where(col(\"name\") == \"JULIA\").show()\n",
    "df.select('*').where(col(\"name\") == \"JULIA\").count()\n",
    "\n"
   ]
  },
  {
   "cell_type": "code",
   "execution_count": 3,
   "metadata": {},
   "outputs": [
    {
     "name": "stdout",
     "output_type": "stream",
     "text": [
      "+--------------------+---+-------------+\n|                 _id|age|         name|\n+--------------------+---+-------------+\n|[5c2b96ef537aa913...| 50|Bilbo Baggins|\n|[5c2b96ef537aa913...| 50|Bilbo Baggins|\n|[5c2b96f7537aa913...| 50|   KONSTANTIN|\n|[5c2b9716537aa913...| 50|   KONSTANTIN|\n|[5c2b973e537aa913...| 50|   KONSTANTIN|\n|[5c2b9742537aa913...| 50|   KONSTANTIN|\n|[5c2b9800537aa915...| 50|   KONSTANTIN|\n|[5c2b9826537aa915...| 22|       Bombur|\n|[5c2b9826537aa915...| 50|   KONSTANTIN|\n|[5c2b985a537aa915...| 22|       Bombur|\n|[5c2b985a537aa915...| 50|   KONSTANTIN|\n|[5c2b98a1537aa916...| 22|       Bombur|\n|[5c2b98a1537aa916...| 50|   KONSTANTIN|\n|[5c2b999f537aa919...| 50|        JULIA|\n|[5c2b999f537aa919...| 22|       Bombur|\n|[5c2b9c08537aa91a...| 50|        JULIA|\n|[5c2b9c08537aa91a...| 22|       Bombur|\n|[5c2b9e6d537aa91a...| 22|       Bombur|\n|[5c2b9e6d537aa91a...| 50|        JULIA|\n+--------------------+---+-------------+\n\n"
     ]
    }
   ],
   "source": [
    "# Filter\n",
    "\n",
    "df = my_spark.read.format(\"com.mongodb.spark.sql.DefaultSource\").load()\n",
    "df.filter(df['age'] <= 51).show()\n",
    "\n"
   ]
  },
  {
   "cell_type": "code",
   "execution_count": 7,
   "metadata": {},
   "outputs": [
    {
     "name": "stdout",
     "output_type": "stream",
     "text": [
      "+--------------------+----+-------+\n|                 _id| age|   name|\n+--------------------+----+-------+\n|[5c2b96ef537aa913...| 195| Thorin|\n|[5c2b96ef537aa913...| 178|  Balin|\n|[5c2b96ef537aa913...|  77|   Kili|\n|[5c2b96ef537aa913...| 169| Dwalin|\n|[5c2b96ef537aa913...| 167|    Oin|\n|[5c2b96ef537aa913...| 158|  Gloin|\n|[5c2b96ef537aa913...|  82|   Fili|\n|[5c2b96ef537aa913...|1000|Gandalf|\n|[5c2b96ef537aa913...| 195| Thorin|\n|[5c2b96ef537aa913...| 178|  Balin|\n|[5c2b96ef537aa913...|  77|   Kili|\n|[5c2b96ef537aa913...| 169| Dwalin|\n|[5c2b96ef537aa913...|1000|Gandalf|\n|[5c2b96ef537aa913...| 167|    Oin|\n|[5c2b96ef537aa913...| 158|  Gloin|\n|[5c2b96ef537aa913...|  82|   Fili|\n|[5c2b96f7537aa913...|  77|   Kili|\n|[5c2b96f7537aa913...| 169| Dwalin|\n|[5c2b96f7537aa913...| 195| Thorin|\n|[5c2b96f7537aa913...| 178|  Balin|\n+--------------------+----+-------+\nonly showing top 20 rows\n\n"
     ]
    }
   ],
   "source": [
    "# Aggregation\n",
    "\n",
    "pipeline = \"{ $match: { age : { $gt : 51 } } }\"\n",
    "df = my_spark.read.format(\"com.mongodb.spark.sql.DefaultSource\").option(\"pipeline\", pipeline).load()\n",
    "df.show()\n"
   ]
  },
  {
   "cell_type": "code",
   "execution_count": null,
   "metadata": {},
   "outputs": [],
   "source": [
    "my_spark.stop()\n",
    "\n"
   ]
  }
 ],
 "metadata": {
  "kernelspec": {
   "display_name": "Python 3",
   "language": "python",
   "name": "python3"
  },
  "language_info": {
   "codemirror_mode": {
    "name": "ipython",
    "version": 3
   },
   "file_extension": ".py",
   "mimetype": "text/x-python",
   "name": "python",
   "nbconvert_exporter": "python",
   "pygments_lexer": "ipython3",
   "version": "3.6.4"
  }
 },
 "nbformat": 4,
 "nbformat_minor": 2
}
