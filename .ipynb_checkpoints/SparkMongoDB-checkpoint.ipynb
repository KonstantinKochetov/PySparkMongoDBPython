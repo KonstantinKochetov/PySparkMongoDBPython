{
 "cells": [
  {
   "cell_type": "code",
   "execution_count": null,
   "metadata": {},
   "outputs": [],
   "source": [
    "# 0\n",
    "# Scala Spark = PySpark.\n",
    "\n",
    "# 1\n",
    "# MONGO DB Characteristics and comparison SLIDES\n",
    "# Mongo DB json sql mapping slide\n",
    "# Indexes and Indices!\n",
    "# BSON\n",
    "\n",
    "# 2\n",
    "# Install with anaconda/conda/brew + pymongo. Follow with creation of data/db. shutdown mongod: activity monitor or top. kill process. Installation https://docs.mongodb.com/manual/tutorial/install-mongodb-on-os-x/\n",
    "# start use test collection. explain what objectid is. Documents can be identical, but obj id will be different\n",
    "\n",
    "# 3\n",
    "# pymongo\n",
    "# pymongo cursors\n",
    "# query and projection\n",
    "# updates and aggregations\n",
    "\n",
    "# 4\n",
    "# Spark rdd and dataframes\n",
    "# RDD - unstructured data, Dataframes - structured data (require schema)\n",
    "# look at the slides\n",
    "\n",
    "# 5\n",
    "# connecting: pyspark --packages org.mongodb.spark:mongo-spark-connector_2.11:2.4.0\n",
    "# Project with analysis.\n",
    "\n",
    "#6 Maik. MONGODB IN CLOUD.\n",
    "#MongoDB Atlas\n",
    "\n"
   ]
  },
  {
   "cell_type": "code",
   "execution_count": null,
   "metadata": {},
   "outputs": [],
   "source": [
    "import pymongo\n",
    "from pymongo import MongoClient\n",
    "\n",
    "client=MongoClient('localhost')\n",
    "db=client.packt\n",
    "testCollection=db.testCollection"
   ]
  },
  {
   "cell_type": "code",
   "execution_count": 50,
   "metadata": {},
   "outputs": [
    {
     "data": {
      "text/plain": [
       "<pymongo.results.InsertOneResult at 0x1122a56c8>"
      ]
     },
     "execution_count": 50,
     "metadata": {},
     "output_type": "execute_result"
    }
   ],
   "source": [
    "testCollection.insert_one({'a':1})"
   ]
  },
  {
   "cell_type": "code",
   "execution_count": 51,
   "metadata": {},
   "outputs": [
    {
     "data": {
      "text/plain": [
       "{'_id': ObjectId('5c2b7f6a13e4a85f0ec624db'), 'a': 1}"
      ]
     },
     "execution_count": 51,
     "metadata": {},
     "output_type": "execute_result"
    }
   ],
   "source": [
    "testCollection.find_one()"
   ]
  },
  {
   "cell_type": "code",
   "execution_count": 54,
   "metadata": {},
   "outputs": [
    {
     "data": {
      "text/plain": [
       "{'code': 26,\n",
       " 'codeName': 'NamespaceNotFound',\n",
       " 'errmsg': 'ns not found',\n",
       " 'ok': 0.0}"
      ]
     },
     "execution_count": 54,
     "metadata": {},
     "output_type": "execute_result"
    }
   ],
   "source": [
    "db.drop_collection('testCollection')"
   ]
  },
  {
   "cell_type": "code",
   "execution_count": 55,
   "metadata": {},
   "outputs": [],
   "source": [
    "client.drop_database('packt')"
   ]
  },
  {
   "cell_type": "code",
   "execution_count": null,
   "metadata": {},
   "outputs": [],
   "source": [
    "from pyspark.sql import SparkSession\n",
    "\n",
    "\n",
    "spark = SparkSession \\\n",
    "    .builder \\\n",
    "    .appName(\"myApp\") \\\n",
    "    .config(\"spark.mongodb.input.uri=mongodb://127.0.0.1/test.myCollection?readPreference=primaryPreferred\") \\\n",
    "    .config(\"spark.mongodb.output.uri=mongodb://127.0.0.1/test.myCollection\") \\\n",
    "    .getOrCreate()"
   ]
  },
  {
   "cell_type": "code",
   "execution_count": null,
   "metadata": {},
   "outputs": [],
   "source": [
    "people = spark.createDataFrame([(\"Bilbo Baggins\",  50), (\"Gandalf\", 1000), (\"Thorin\", 195), (\"Balin\", 178), (\"Kili\", 77),\n",
    "   (\"Dwalin\", 169), (\"Oin\", 167), (\"Gloin\", 158), (\"Fili\", 82), (\"Bombur\", None)], [\"name\", \"age\"])"
   ]
  },
  {
   "cell_type": "code",
   "execution_count": null,
   "metadata": {},
   "outputs": [],
   "source": [
    "people.write.format(\"com.mongodb.spark.sql.DefaultSource\").mode(\"append\").save()"
   ]
  },
  {
   "cell_type": "code",
   "execution_count": null,
   "metadata": {},
   "outputs": [],
   "source": []
  }
 ],
 "metadata": {
  "kernelspec": {
   "display_name": "Python 3",
   "language": "python",
   "name": "python3"
  },
  "language_info": {
   "codemirror_mode": {
    "name": "ipython",
    "version": 3
   },
   "file_extension": ".py",
   "mimetype": "text/x-python",
   "name": "python",
   "nbconvert_exporter": "python",
   "pygments_lexer": "ipython3",
   "version": "3.6.4"
  }
 },
 "nbformat": 4,
 "nbformat_minor": 2
}
